{
 "cells": [
  {
   "cell_type": "code",
   "execution_count": 2,
   "id": "f3570b70",
   "metadata": {},
   "outputs": [
    {
     "ename": "SyntaxError",
     "evalue": "invalid syntax (3731091131.py, line 1)",
     "output_type": "error",
     "traceback": [
      "\u001b[1;36m  Input \u001b[1;32mIn [2]\u001b[1;36m\u001b[0m\n\u001b[1;33m    pip install imgaug\u001b[0m\n\u001b[1;37m        ^\u001b[0m\n\u001b[1;31mSyntaxError\u001b[0m\u001b[1;31m:\u001b[0m invalid syntax\n"
     ]
    }
   ],
   "source": [
    "pip install imgaug\n",
    "pip install ipyplot"
   ]
  },
  {
   "cell_type": "code",
   "execution_count": 3,
   "id": "d4b692c6",
   "metadata": {},
   "outputs": [
    {
     "name": "stdout",
     "output_type": "stream",
     "text": [
      "Collecting ipyplot\n",
      "  Downloading ipyplot-1.1.1-py3-none-any.whl (13 kB)\n",
      "Requirement already satisfied: pillow in c:\\users\\my lapi\\anaconda3\\lib\\site-packages (from ipyplot) (9.0.1)\n",
      "Requirement already satisfied: IPython in c:\\users\\my lapi\\anaconda3\\lib\\site-packages (from ipyplot) (8.2.0)\n",
      "Collecting shortuuid\n",
      "  Downloading shortuuid-1.0.11-py3-none-any.whl (10 kB)\n",
      "Requirement already satisfied: numpy in c:\\users\\my lapi\\anaconda3\\lib\\site-packages (from ipyplot) (1.21.5)\n",
      "Requirement already satisfied: traitlets>=5 in c:\\users\\my lapi\\anaconda3\\lib\\site-packages (from IPython->ipyplot) (5.1.1)\n",
      "Requirement already satisfied: backcall in c:\\users\\my lapi\\anaconda3\\lib\\site-packages (from IPython->ipyplot) (0.2.0)\n",
      "Requirement already satisfied: decorator in c:\\users\\my lapi\\anaconda3\\lib\\site-packages (from IPython->ipyplot) (5.1.1)\n",
      "Requirement already satisfied: pygments>=2.4.0 in c:\\users\\my lapi\\anaconda3\\lib\\site-packages (from IPython->ipyplot) (2.11.2)\n",
      "Requirement already satisfied: colorama in c:\\users\\my lapi\\anaconda3\\lib\\site-packages (from IPython->ipyplot) (0.4.4)\n",
      "Requirement already satisfied: pickleshare in c:\\users\\my lapi\\anaconda3\\lib\\site-packages (from IPython->ipyplot) (0.7.5)\n",
      "Requirement already satisfied: stack-data in c:\\users\\my lapi\\anaconda3\\lib\\site-packages (from IPython->ipyplot) (0.2.0)\n",
      "Requirement already satisfied: setuptools>=18.5 in c:\\users\\my lapi\\anaconda3\\lib\\site-packages (from IPython->ipyplot) (61.2.0)\n",
      "Requirement already satisfied: jedi>=0.16 in c:\\users\\my lapi\\anaconda3\\lib\\site-packages (from IPython->ipyplot) (0.18.1)\n",
      "Requirement already satisfied: prompt-toolkit!=3.0.0,!=3.0.1,<3.1.0,>=2.0.0 in c:\\users\\my lapi\\anaconda3\\lib\\site-packages (from IPython->ipyplot) (3.0.20)\n",
      "Requirement already satisfied: matplotlib-inline in c:\\users\\my lapi\\anaconda3\\lib\\site-packages (from IPython->ipyplot) (0.1.2)\n",
      "Requirement already satisfied: parso<0.9.0,>=0.8.0 in c:\\users\\my lapi\\anaconda3\\lib\\site-packages (from jedi>=0.16->IPython->ipyplot) (0.8.3)\n",
      "Requirement already satisfied: wcwidth in c:\\users\\my lapi\\anaconda3\\lib\\site-packages (from prompt-toolkit!=3.0.0,!=3.0.1,<3.1.0,>=2.0.0->IPython->ipyplot) (0.2.5)\n",
      "Requirement already satisfied: pure-eval in c:\\users\\my lapi\\anaconda3\\lib\\site-packages (from stack-data->IPython->ipyplot) (0.2.2)\n",
      "Requirement already satisfied: executing in c:\\users\\my lapi\\anaconda3\\lib\\site-packages (from stack-data->IPython->ipyplot) (0.8.3)\n",
      "Requirement already satisfied: asttokens in c:\\users\\my lapi\\anaconda3\\lib\\site-packages (from stack-data->IPython->ipyplot) (2.0.5)\n",
      "Requirement already satisfied: six in c:\\users\\my lapi\\anaconda3\\lib\\site-packages (from asttokens->stack-data->IPython->ipyplot) (1.16.0)\n",
      "Installing collected packages: shortuuid, ipyplot\n",
      "Successfully installed ipyplot-1.1.1 shortuuid-1.0.11\n",
      "Note: you may need to restart the kernel to use updated packages.\n"
     ]
    }
   ],
   "source": [
    "pip install ipyplot"
   ]
  },
  {
   "cell_type": "code",
   "execution_count": 4,
   "id": "cf512829",
   "metadata": {},
   "outputs": [
    {
     "name": "stdout",
     "output_type": "stream",
     "text": [
      "Collecting imgaug\n",
      "  Downloading imgaug-0.4.0-py2.py3-none-any.whl (948 kB)\n",
      "Requirement already satisfied: Pillow in c:\\users\\my lapi\\anaconda3\\lib\\site-packages (from imgaug) (9.0.1)\n",
      "Requirement already satisfied: matplotlib in c:\\users\\my lapi\\anaconda3\\lib\\site-packages (from imgaug) (3.5.1)\n",
      "Requirement already satisfied: numpy>=1.15 in c:\\users\\my lapi\\anaconda3\\lib\\site-packages (from imgaug) (1.21.5)\n",
      "Collecting Shapely\n",
      "  Downloading shapely-2.0.0-cp39-cp39-win_amd64.whl (1.4 MB)\n",
      "Requirement already satisfied: imageio in c:\\users\\my lapi\\anaconda3\\lib\\site-packages (from imgaug) (2.9.0)\n",
      "Requirement already satisfied: scipy in c:\\users\\my lapi\\anaconda3\\lib\\site-packages (from imgaug) (1.7.3)\n",
      "Collecting opencv-python\n",
      "  Downloading opencv_python-4.7.0.68-cp37-abi3-win_amd64.whl (38.2 MB)\n",
      "Requirement already satisfied: scikit-image>=0.14.2 in c:\\users\\my lapi\\anaconda3\\lib\\site-packages (from imgaug) (0.19.2)\n",
      "Requirement already satisfied: six in c:\\users\\my lapi\\anaconda3\\lib\\site-packages (from imgaug) (1.16.0)\n",
      "Requirement already satisfied: tifffile>=2019.7.26 in c:\\users\\my lapi\\anaconda3\\lib\\site-packages (from scikit-image>=0.14.2->imgaug) (2021.7.2)\n",
      "Requirement already satisfied: packaging>=20.0 in c:\\users\\my lapi\\anaconda3\\lib\\site-packages (from scikit-image>=0.14.2->imgaug) (21.3)\n",
      "Requirement already satisfied: networkx>=2.2 in c:\\users\\my lapi\\anaconda3\\lib\\site-packages (from scikit-image>=0.14.2->imgaug) (2.7.1)\n",
      "Requirement already satisfied: PyWavelets>=1.1.1 in c:\\users\\my lapi\\anaconda3\\lib\\site-packages (from scikit-image>=0.14.2->imgaug) (1.3.0)\n",
      "Requirement already satisfied: pyparsing!=3.0.5,>=2.0.2 in c:\\users\\my lapi\\anaconda3\\lib\\site-packages (from packaging>=20.0->scikit-image>=0.14.2->imgaug) (3.0.4)\n",
      "Requirement already satisfied: cycler>=0.10 in c:\\users\\my lapi\\anaconda3\\lib\\site-packages (from matplotlib->imgaug) (0.11.0)\n",
      "Requirement already satisfied: fonttools>=4.22.0 in c:\\users\\my lapi\\anaconda3\\lib\\site-packages (from matplotlib->imgaug) (4.25.0)\n",
      "Requirement already satisfied: kiwisolver>=1.0.1 in c:\\users\\my lapi\\anaconda3\\lib\\site-packages (from matplotlib->imgaug) (1.3.2)\n",
      "Requirement already satisfied: python-dateutil>=2.7 in c:\\users\\my lapi\\anaconda3\\lib\\site-packages (from matplotlib->imgaug) (2.8.2)\n",
      "Installing collected packages: Shapely, opencv-python, imgaug\n",
      "Successfully installed Shapely-2.0.0 imgaug-0.4.0 opencv-python-4.7.0.68\n",
      "Note: you may need to restart the kernel to use updated packages.\n"
     ]
    }
   ],
   "source": [
    "pip install imgaug"
   ]
  },
  {
   "cell_type": "code",
   "execution_count": 5,
   "id": "708ecf62",
   "metadata": {},
   "outputs": [],
   "source": [
    "import imageio\n",
    "import imgaug as ia\n",
    "import imgaug.augmenters as iaa"
   ]
  },
  {
   "cell_type": "code",
   "execution_count": 6,
   "id": "df9dd3e9",
   "metadata": {},
   "outputs": [
    {
     "ename": "FileNotFoundError",
     "evalue": "No such file: 'C:\\Users\\input\\image-bird\\bird.jpg'",
     "output_type": "error",
     "traceback": [
      "\u001b[1;31m---------------------------------------------------------------------------\u001b[0m",
      "\u001b[1;31mFileNotFoundError\u001b[0m                         Traceback (most recent call last)",
      "Input \u001b[1;32mIn [6]\u001b[0m, in \u001b[0;36m<cell line: 1>\u001b[1;34m()\u001b[0m\n\u001b[1;32m----> 1\u001b[0m input_img \u001b[38;5;241m=\u001b[39m \u001b[43mimageio\u001b[49m\u001b[38;5;241;43m.\u001b[39;49m\u001b[43mimread\u001b[49m\u001b[43m(\u001b[49m\u001b[38;5;124;43m'\u001b[39;49m\u001b[38;5;124;43m../input/image-bird/bird.jpg\u001b[39;49m\u001b[38;5;124;43m'\u001b[39;49m\u001b[43m)\u001b[49m\n",
      "File \u001b[1;32m~\\anaconda3\\lib\\site-packages\\imageio\\core\\functions.py:265\u001b[0m, in \u001b[0;36mimread\u001b[1;34m(uri, format, **kwargs)\u001b[0m\n\u001b[0;32m    260\u001b[0m     \u001b[38;5;28;01mraise\u001b[39;00m \u001b[38;5;167;01mTypeError\u001b[39;00m(\n\u001b[0;32m    261\u001b[0m         \u001b[38;5;124m'\u001b[39m\u001b[38;5;124mInvalid keyword argument \u001b[39m\u001b[38;5;124m\"\u001b[39m\u001b[38;5;124mmode\u001b[39m\u001b[38;5;124m\"\u001b[39m\u001b[38;5;124m, \u001b[39m\u001b[38;5;124m'\u001b[39m \u001b[38;5;124m'\u001b[39m\u001b[38;5;124mperhaps you mean \u001b[39m\u001b[38;5;124m\"\u001b[39m\u001b[38;5;124mpilmode\u001b[39m\u001b[38;5;124m\"\u001b[39m\u001b[38;5;124m?\u001b[39m\u001b[38;5;124m'\u001b[39m\n\u001b[0;32m    262\u001b[0m     )\n\u001b[0;32m    264\u001b[0m \u001b[38;5;66;03m# Get reader and read first\u001b[39;00m\n\u001b[1;32m--> 265\u001b[0m reader \u001b[38;5;241m=\u001b[39m read(uri, \u001b[38;5;28mformat\u001b[39m, \u001b[38;5;124m\"\u001b[39m\u001b[38;5;124mi\u001b[39m\u001b[38;5;124m\"\u001b[39m, \u001b[38;5;241m*\u001b[39m\u001b[38;5;241m*\u001b[39mkwargs)\n\u001b[0;32m    266\u001b[0m \u001b[38;5;28;01mwith\u001b[39;00m reader:\n\u001b[0;32m    267\u001b[0m     \u001b[38;5;28;01mreturn\u001b[39;00m reader\u001b[38;5;241m.\u001b[39mget_data(\u001b[38;5;241m0\u001b[39m)\n",
      "File \u001b[1;32m~\\anaconda3\\lib\\site-packages\\imageio\\core\\functions.py:172\u001b[0m, in \u001b[0;36mget_reader\u001b[1;34m(uri, format, mode, **kwargs)\u001b[0m\n\u001b[0;32m    149\u001b[0m \u001b[38;5;124;03m\"\"\" get_reader(uri, format=None, mode='?', **kwargs)\u001b[39;00m\n\u001b[0;32m    150\u001b[0m \n\u001b[0;32m    151\u001b[0m \u001b[38;5;124;03mReturns a :class:`.Reader` object which can be used to read data\u001b[39;00m\n\u001b[1;32m   (...)\u001b[0m\n\u001b[0;32m    168\u001b[0m \u001b[38;5;124;03m    to see what arguments are available for a particular format.\u001b[39;00m\n\u001b[0;32m    169\u001b[0m \u001b[38;5;124;03m\"\"\"\u001b[39;00m\n\u001b[0;32m    171\u001b[0m \u001b[38;5;66;03m# Create request object\u001b[39;00m\n\u001b[1;32m--> 172\u001b[0m request \u001b[38;5;241m=\u001b[39m Request(uri, \u001b[38;5;124m\"\u001b[39m\u001b[38;5;124mr\u001b[39m\u001b[38;5;124m\"\u001b[39m \u001b[38;5;241m+\u001b[39m mode, \u001b[38;5;241m*\u001b[39m\u001b[38;5;241m*\u001b[39mkwargs)\n\u001b[0;32m    174\u001b[0m \u001b[38;5;66;03m# Get format\u001b[39;00m\n\u001b[0;32m    175\u001b[0m \u001b[38;5;28;01mif\u001b[39;00m \u001b[38;5;28mformat\u001b[39m \u001b[38;5;129;01mis\u001b[39;00m \u001b[38;5;129;01mnot\u001b[39;00m \u001b[38;5;28;01mNone\u001b[39;00m:\n",
      "File \u001b[1;32m~\\anaconda3\\lib\\site-packages\\imageio\\core\\request.py:124\u001b[0m, in \u001b[0;36mRequest.__init__\u001b[1;34m(self, uri, mode, **kwargs)\u001b[0m\n\u001b[0;32m    121\u001b[0m     \u001b[38;5;28;01mraise\u001b[39;00m \u001b[38;5;167;01mValueError\u001b[39;00m(\u001b[38;5;124m'\u001b[39m\u001b[38;5;124mRequest requires mode[1] to be in \u001b[39m\u001b[38;5;124m\"\u001b[39m\u001b[38;5;124miIvV?\u001b[39m\u001b[38;5;124m\"\u001b[39m\u001b[38;5;124m'\u001b[39m)\n\u001b[0;32m    123\u001b[0m \u001b[38;5;66;03m# Parse what was given\u001b[39;00m\n\u001b[1;32m--> 124\u001b[0m \u001b[38;5;28;43mself\u001b[39;49m\u001b[38;5;241;43m.\u001b[39;49m\u001b[43m_parse_uri\u001b[49m\u001b[43m(\u001b[49m\u001b[43muri\u001b[49m\u001b[43m)\u001b[49m\n\u001b[0;32m    126\u001b[0m \u001b[38;5;66;03m# Set extension\u001b[39;00m\n\u001b[0;32m    127\u001b[0m \u001b[38;5;28;01mif\u001b[39;00m \u001b[38;5;28mself\u001b[39m\u001b[38;5;241m.\u001b[39m_filename \u001b[38;5;129;01mis\u001b[39;00m \u001b[38;5;129;01mnot\u001b[39;00m \u001b[38;5;28;01mNone\u001b[39;00m:\n",
      "File \u001b[1;32m~\\anaconda3\\lib\\site-packages\\imageio\\core\\request.py:260\u001b[0m, in \u001b[0;36mRequest._parse_uri\u001b[1;34m(self, uri)\u001b[0m\n\u001b[0;32m    257\u001b[0m \u001b[38;5;28;01mif\u001b[39;00m is_read_request:\n\u001b[0;32m    258\u001b[0m     \u001b[38;5;66;03m# Reading: check that the file exists (but is allowed a dir)\u001b[39;00m\n\u001b[0;32m    259\u001b[0m     \u001b[38;5;28;01mif\u001b[39;00m \u001b[38;5;129;01mnot\u001b[39;00m os\u001b[38;5;241m.\u001b[39mpath\u001b[38;5;241m.\u001b[39mexists(fn):\n\u001b[1;32m--> 260\u001b[0m         \u001b[38;5;28;01mraise\u001b[39;00m \u001b[38;5;167;01mFileNotFoundError\u001b[39;00m(\u001b[38;5;124m\"\u001b[39m\u001b[38;5;124mNo such file: \u001b[39m\u001b[38;5;124m'\u001b[39m\u001b[38;5;132;01m%s\u001b[39;00m\u001b[38;5;124m'\u001b[39m\u001b[38;5;124m\"\u001b[39m \u001b[38;5;241m%\u001b[39m fn)\n\u001b[0;32m    261\u001b[0m \u001b[38;5;28;01melse\u001b[39;00m:\n\u001b[0;32m    262\u001b[0m     \u001b[38;5;66;03m# Writing: check that the directory to write to does exist\u001b[39;00m\n\u001b[0;32m    263\u001b[0m     dn \u001b[38;5;241m=\u001b[39m os\u001b[38;5;241m.\u001b[39mpath\u001b[38;5;241m.\u001b[39mdirname(fn)\n",
      "\u001b[1;31mFileNotFoundError\u001b[0m: No such file: 'C:\\Users\\input\\image-bird\\bird.jpg'"
     ]
    }
   ],
   "source": [
    "input_img = imageio.imread('../input/image-bird/bird.jpg')"
   ]
  },
  {
   "cell_type": "code",
   "execution_count": 7,
   "id": "73820ec0",
   "metadata": {},
   "outputs": [
    {
     "ename": "NameError",
     "evalue": "name 'input_img' is not defined",
     "output_type": "error",
     "traceback": [
      "\u001b[1;31m---------------------------------------------------------------------------\u001b[0m",
      "\u001b[1;31mNameError\u001b[0m                                 Traceback (most recent call last)",
      "Input \u001b[1;32mIn [7]\u001b[0m, in \u001b[0;36m<cell line: 3>\u001b[1;34m()\u001b[0m\n\u001b[0;32m      1\u001b[0m \u001b[38;5;66;03m#Horizontal Flip\u001b[39;00m\n\u001b[0;32m      2\u001b[0m hflip\u001b[38;5;241m=\u001b[39m iaa\u001b[38;5;241m.\u001b[39mFliplr(p\u001b[38;5;241m=\u001b[39m\u001b[38;5;241m1.0\u001b[39m)\n\u001b[1;32m----> 3\u001b[0m input_hf\u001b[38;5;241m=\u001b[39m hflip\u001b[38;5;241m.\u001b[39maugment_image(\u001b[43minput_img\u001b[49m)\n",
      "\u001b[1;31mNameError\u001b[0m: name 'input_img' is not defined"
     ]
    }
   ],
   "source": [
    "#Horizontal Flip\n",
    "hflip= iaa.Fliplr(p=1.0)\n",
    "input_hf= hflip.augment_image(input_img)"
   ]
  },
  {
   "cell_type": "code",
   "execution_count": 8,
   "id": "79e4d501",
   "metadata": {},
   "outputs": [
    {
     "ename": "NameError",
     "evalue": "name 'input_img' is not defined",
     "output_type": "error",
     "traceback": [
      "\u001b[1;31m---------------------------------------------------------------------------\u001b[0m",
      "\u001b[1;31mNameError\u001b[0m                                 Traceback (most recent call last)",
      "Input \u001b[1;32mIn [8]\u001b[0m, in \u001b[0;36m<cell line: 3>\u001b[1;34m()\u001b[0m\n\u001b[0;32m      1\u001b[0m \u001b[38;5;66;03m#Vertical Flip\u001b[39;00m\n\u001b[0;32m      2\u001b[0m vflip\u001b[38;5;241m=\u001b[39m iaa\u001b[38;5;241m.\u001b[39mFlipud(p\u001b[38;5;241m=\u001b[39m\u001b[38;5;241m1.0\u001b[39m) \n\u001b[1;32m----> 3\u001b[0m input_vf\u001b[38;5;241m=\u001b[39m vflip\u001b[38;5;241m.\u001b[39maugment_image(\u001b[43minput_img\u001b[49m)\n\u001b[0;32m      4\u001b[0m images_list\u001b[38;5;241m=\u001b[39m[input_img, input_hf, input_vf]\n\u001b[0;32m      5\u001b[0m labels \u001b[38;5;241m=\u001b[39m [\u001b[38;5;124m'\u001b[39m\u001b[38;5;124mOriginal\u001b[39m\u001b[38;5;124m'\u001b[39m, \u001b[38;5;124m'\u001b[39m\u001b[38;5;124mHorizontally flipped\u001b[39m\u001b[38;5;124m'\u001b[39m, \u001b[38;5;124m'\u001b[39m\u001b[38;5;124mVertically flipped\u001b[39m\u001b[38;5;124m'\u001b[39m]\n",
      "\u001b[1;31mNameError\u001b[0m: name 'input_img' is not defined"
     ]
    }
   ],
   "source": [
    "#Vertical Flip\n",
    "vflip= iaa.Flipud(p=1.0) \n",
    "input_vf= vflip.augment_image(input_img)\n",
    "images_list=[input_img, input_hf, input_vf]\n",
    "labels = ['Original', 'Horizontally flipped', 'Vertically flipped']\n",
    "ipyplot.plot_images(images_list,labels=labels,img_width=180)"
   ]
  },
  {
   "cell_type": "code",
   "execution_count": 9,
   "id": "5543c7b6",
   "metadata": {},
   "outputs": [
    {
     "ename": "NameError",
     "evalue": "name 'input_img' is not defined",
     "output_type": "error",
     "traceback": [
      "\u001b[1;31m---------------------------------------------------------------------------\u001b[0m",
      "\u001b[1;31mNameError\u001b[0m                                 Traceback (most recent call last)",
      "Input \u001b[1;32mIn [9]\u001b[0m, in \u001b[0;36m<cell line: 2>\u001b[1;34m()\u001b[0m\n\u001b[0;32m      1\u001b[0m rot1 \u001b[38;5;241m=\u001b[39m iaa\u001b[38;5;241m.\u001b[39mAffine(rotate\u001b[38;5;241m=\u001b[39m(\u001b[38;5;241m-\u001b[39m\u001b[38;5;241m50\u001b[39m,\u001b[38;5;241m20\u001b[39m))\n\u001b[1;32m----> 2\u001b[0m input_rot1 \u001b[38;5;241m=\u001b[39m rot1\u001b[38;5;241m.\u001b[39maugment_image(\u001b[43minput_img\u001b[49m)\n\u001b[0;32m      3\u001b[0m images_list\u001b[38;5;241m=\u001b[39m[input_img, input_rot1]\n\u001b[0;32m      4\u001b[0m labels \u001b[38;5;241m=\u001b[39m [\u001b[38;5;124m'\u001b[39m\u001b[38;5;124mOriginal\u001b[39m\u001b[38;5;124m'\u001b[39m, \u001b[38;5;124m'\u001b[39m\u001b[38;5;124mRotated Image\u001b[39m\u001b[38;5;124m'\u001b[39m]\n",
      "\u001b[1;31mNameError\u001b[0m: name 'input_img' is not defined"
     ]
    }
   ],
   "source": [
    "rot1 = iaa.Affine(rotate=(-50,20))\n",
    "input_rot1 = rot1.augment_image(input_img)\n",
    "images_list=[input_img, input_rot1]\n",
    "labels = ['Original', 'Rotated Image']\n",
    "ipyplot.plot_images(images_list,labels=labels,img_width=180)"
   ]
  },
  {
   "cell_type": "code",
   "execution_count": 10,
   "id": "2ea1afa8",
   "metadata": {},
   "outputs": [
    {
     "ename": "NameError",
     "evalue": "name 'input_img' is not defined",
     "output_type": "error",
     "traceback": [
      "\u001b[1;31m---------------------------------------------------------------------------\u001b[0m",
      "\u001b[1;31mNameError\u001b[0m                                 Traceback (most recent call last)",
      "Input \u001b[1;32mIn [10]\u001b[0m, in \u001b[0;36m<cell line: 2>\u001b[1;34m()\u001b[0m\n\u001b[0;32m      1\u001b[0m crop1 \u001b[38;5;241m=\u001b[39m iaa\u001b[38;5;241m.\u001b[39mCrop(percent\u001b[38;5;241m=\u001b[39m(\u001b[38;5;241m0\u001b[39m, \u001b[38;5;241m0.3\u001b[39m)) \n\u001b[1;32m----> 2\u001b[0m input_crop1 \u001b[38;5;241m=\u001b[39m crop1\u001b[38;5;241m.\u001b[39maugment_image(\u001b[43minput_img\u001b[49m)\n\u001b[0;32m      3\u001b[0m images_list\u001b[38;5;241m=\u001b[39m[input_img, input_crop1]\n\u001b[0;32m      4\u001b[0m labels \u001b[38;5;241m=\u001b[39m [\u001b[38;5;124m'\u001b[39m\u001b[38;5;124mOriginal\u001b[39m\u001b[38;5;124m'\u001b[39m, \u001b[38;5;124m'\u001b[39m\u001b[38;5;124mCropped Image\u001b[39m\u001b[38;5;124m'\u001b[39m]\n",
      "\u001b[1;31mNameError\u001b[0m: name 'input_img' is not defined"
     ]
    }
   ],
   "source": [
    "crop1 = iaa.Crop(percent=(0, 0.3)) \n",
    "input_crop1 = crop1.augment_image(input_img)\n",
    "images_list=[input_img, input_crop1]\n",
    "labels = ['Original', 'Cropped Image']\n",
    "ipyplot.plot_images(images_list,labels=labels,img_width=180)"
   ]
  },
  {
   "cell_type": "code",
   "execution_count": 11,
   "id": "a9ce6784",
   "metadata": {},
   "outputs": [
    {
     "ename": "NameError",
     "evalue": "name 'input_img' is not defined",
     "output_type": "error",
     "traceback": [
      "\u001b[1;31m---------------------------------------------------------------------------\u001b[0m",
      "\u001b[1;31mNameError\u001b[0m                                 Traceback (most recent call last)",
      "Input \u001b[1;32mIn [11]\u001b[0m, in \u001b[0;36m<cell line: 2>\u001b[1;34m()\u001b[0m\n\u001b[0;32m      1\u001b[0m noise\u001b[38;5;241m=\u001b[39miaa\u001b[38;5;241m.\u001b[39mAdditiveGaussianNoise(\u001b[38;5;241m10\u001b[39m,\u001b[38;5;241m40\u001b[39m)\n\u001b[1;32m----> 2\u001b[0m input_noise\u001b[38;5;241m=\u001b[39mnoise\u001b[38;5;241m.\u001b[39maugment_image(\u001b[43minput_img\u001b[49m)\n\u001b[0;32m      3\u001b[0m images_list\u001b[38;5;241m=\u001b[39m[input_img, input_noise]\n\u001b[0;32m      4\u001b[0m labels \u001b[38;5;241m=\u001b[39m [\u001b[38;5;124m'\u001b[39m\u001b[38;5;124mOriginal\u001b[39m\u001b[38;5;124m'\u001b[39m, \u001b[38;5;124m'\u001b[39m\u001b[38;5;124mGaussian Noise Image\u001b[39m\u001b[38;5;124m'\u001b[39m]\n",
      "\u001b[1;31mNameError\u001b[0m: name 'input_img' is not defined"
     ]
    }
   ],
   "source": [
    "noise=iaa.AdditiveGaussianNoise(10,40)\n",
    "input_noise=noise.augment_image(input_img)\n",
    "images_list=[input_img, input_noise]\n",
    "labels = ['Original', 'Gaussian Noise Image']\n",
    "ipyplot.plot_images(images_list,labels=labels,img_width=180)"
   ]
  },
  {
   "cell_type": "code",
   "execution_count": 12,
   "id": "6e2c6512",
   "metadata": {},
   "outputs": [
    {
     "ename": "NameError",
     "evalue": "name 'input_img' is not defined",
     "output_type": "error",
     "traceback": [
      "\u001b[1;31m---------------------------------------------------------------------------\u001b[0m",
      "\u001b[1;31mNameError\u001b[0m                                 Traceback (most recent call last)",
      "Input \u001b[1;32mIn [12]\u001b[0m, in \u001b[0;36m<cell line: 2>\u001b[1;34m()\u001b[0m\n\u001b[0;32m      1\u001b[0m shear \u001b[38;5;241m=\u001b[39m iaa\u001b[38;5;241m.\u001b[39mAffine(shear\u001b[38;5;241m=\u001b[39m(\u001b[38;5;241m-\u001b[39m\u001b[38;5;241m40\u001b[39m,\u001b[38;5;241m40\u001b[39m))\n\u001b[1;32m----> 2\u001b[0m input_shear\u001b[38;5;241m=\u001b[39mshear\u001b[38;5;241m.\u001b[39maugment_image(\u001b[43minput_img\u001b[49m)\n\u001b[0;32m      3\u001b[0m images_list\u001b[38;5;241m=\u001b[39m[input_img, input_shear]\n\u001b[0;32m      4\u001b[0m labels \u001b[38;5;241m=\u001b[39m [\u001b[38;5;124m'\u001b[39m\u001b[38;5;124mOriginal\u001b[39m\u001b[38;5;124m'\u001b[39m, \u001b[38;5;124m'\u001b[39m\u001b[38;5;124mImage Shearing\u001b[39m\u001b[38;5;124m'\u001b[39m]\n",
      "\u001b[1;31mNameError\u001b[0m: name 'input_img' is not defined"
     ]
    }
   ],
   "source": [
    "shear = iaa.Affine(shear=(-40,40))\n",
    "input_shear=shear.augment_image(input_img)\n",
    "images_list=[input_img, input_shear]\n",
    "labels = ['Original', 'Image Shearing']\n",
    "ipyplot.plot_images(images_list,labels=labels,img_width=180)"
   ]
  },
  {
   "cell_type": "code",
   "execution_count": 13,
   "id": "66fafe9c",
   "metadata": {},
   "outputs": [
    {
     "ename": "NameError",
     "evalue": "name 'input_img' is not defined",
     "output_type": "error",
     "traceback": [
      "\u001b[1;31m---------------------------------------------------------------------------\u001b[0m",
      "\u001b[1;31mNameError\u001b[0m                                 Traceback (most recent call last)",
      "Input \u001b[1;32mIn [13]\u001b[0m, in \u001b[0;36m<cell line: 4>\u001b[1;34m()\u001b[0m\n\u001b[0;32m      2\u001b[0m contrast_sig \u001b[38;5;241m=\u001b[39m iaa\u001b[38;5;241m.\u001b[39mSigmoidContrast(gain\u001b[38;5;241m=\u001b[39m(\u001b[38;5;241m5\u001b[39m, \u001b[38;5;241m10\u001b[39m), cutoff\u001b[38;5;241m=\u001b[39m(\u001b[38;5;241m0.4\u001b[39m, \u001b[38;5;241m0.6\u001b[39m))\n\u001b[0;32m      3\u001b[0m contrast_lin \u001b[38;5;241m=\u001b[39m iaa\u001b[38;5;241m.\u001b[39mLinearContrast((\u001b[38;5;241m0.6\u001b[39m, \u001b[38;5;241m0.4\u001b[39m))\n\u001b[1;32m----> 4\u001b[0m input_contrast \u001b[38;5;241m=\u001b[39m contrast\u001b[38;5;241m.\u001b[39maugment_image(\u001b[43minput_img\u001b[49m)\n\u001b[0;32m      5\u001b[0m sigmoid_contrast \u001b[38;5;241m=\u001b[39m contrast_sig\u001b[38;5;241m.\u001b[39maugment_image(input_img)\n\u001b[0;32m      6\u001b[0m linear_contrast \u001b[38;5;241m=\u001b[39m contrast_lin\u001b[38;5;241m.\u001b[39maugment_image(input_img)\n",
      "\u001b[1;31mNameError\u001b[0m: name 'input_img' is not defined"
     ]
    }
   ],
   "source": [
    "contrast=iaa.GammaContrast((0.5, 2.0))\n",
    "contrast_sig = iaa.SigmoidContrast(gain=(5, 10), cutoff=(0.4, 0.6))\n",
    "contrast_lin = iaa.LinearContrast((0.6, 0.4))\n",
    "input_contrast = contrast.augment_image(input_img)\n",
    "sigmoid_contrast = contrast_sig.augment_image(input_img)\n",
    "linear_contrast = contrast_lin.augment_image(input_img)\n",
    "images_list=[input_img, input_contrast,sigmoid_contrast,linear_contrast]\n",
    "labels = ['Original', 'Gamma Contrast','SigmoidContrast','LinearContrast']\n",
    "ipyplot.plot_images(images_list,labels=labels,img_width=180)"
   ]
  },
  {
   "cell_type": "code",
   "execution_count": 14,
   "id": "fb04891f",
   "metadata": {},
   "outputs": [
    {
     "ename": "NameError",
     "evalue": "name 'input_img' is not defined",
     "output_type": "error",
     "traceback": [
      "\u001b[1;31m---------------------------------------------------------------------------\u001b[0m",
      "\u001b[1;31mNameError\u001b[0m                                 Traceback (most recent call last)",
      "Input \u001b[1;32mIn [14]\u001b[0m, in \u001b[0;36m<cell line: 4>\u001b[1;34m()\u001b[0m\n\u001b[0;32m      2\u001b[0m polar \u001b[38;5;241m=\u001b[39m iaa\u001b[38;5;241m.\u001b[39mWithPolarWarping(iaa\u001b[38;5;241m.\u001b[39mCropAndPad(percent\u001b[38;5;241m=\u001b[39m(\u001b[38;5;241m-\u001b[39m\u001b[38;5;241m0.2\u001b[39m, \u001b[38;5;241m0.7\u001b[39m)))\n\u001b[0;32m      3\u001b[0m jigsaw \u001b[38;5;241m=\u001b[39m iaa\u001b[38;5;241m.\u001b[39mJigsaw(nb_rows\u001b[38;5;241m=\u001b[39m\u001b[38;5;241m20\u001b[39m, nb_cols\u001b[38;5;241m=\u001b[39m\u001b[38;5;241m15\u001b[39m, max_steps\u001b[38;5;241m=\u001b[39m(\u001b[38;5;241m3\u001b[39m, \u001b[38;5;241m7\u001b[39m))\n\u001b[1;32m----> 4\u001b[0m input_elastic \u001b[38;5;241m=\u001b[39m elastic\u001b[38;5;241m.\u001b[39maugment_image(\u001b[43minput_img\u001b[49m)\n\u001b[0;32m      5\u001b[0m input_polar \u001b[38;5;241m=\u001b[39m polar\u001b[38;5;241m.\u001b[39maugment_image(input_img)\n\u001b[0;32m      6\u001b[0m input_jigsaw \u001b[38;5;241m=\u001b[39m jigsaw\u001b[38;5;241m.\u001b[39maugment_image(input_img)\n",
      "\u001b[1;31mNameError\u001b[0m: name 'input_img' is not defined"
     ]
    }
   ],
   "source": [
    "elastic = iaa.ElasticTransformation(alpha=60.0, sigma=4.0)\n",
    "polar = iaa.WithPolarWarping(iaa.CropAndPad(percent=(-0.2, 0.7)))\n",
    "jigsaw = iaa.Jigsaw(nb_rows=20, nb_cols=15, max_steps=(3, 7))\n",
    "input_elastic = elastic.augment_image(input_img)\n",
    "input_polar = polar.augment_image(input_img)\n",
    "input_jigsaw = jigsaw.augment_image(input_img)\n",
    "images_list=[input_img, input_elastic,input_polar,input_jigsaw]\n",
    "labels = ['Original', 'elastic','polar','jigsaw']\n",
    "ipyplot.plot_images(images_list,labels=labels,img_width=180)"
   ]
  },
  {
   "cell_type": "code",
   "execution_count": 15,
   "id": "04a0f984",
   "metadata": {},
   "outputs": [
    {
     "ename": "NameError",
     "evalue": "name 'input_img' is not defined",
     "output_type": "error",
     "traceback": [
      "\u001b[1;31m---------------------------------------------------------------------------\u001b[0m",
      "\u001b[1;31mNameError\u001b[0m                                 Traceback (most recent call last)",
      "Input \u001b[1;32mIn [15]\u001b[0m, in \u001b[0;36m<cell line: 2>\u001b[1;34m()\u001b[0m\n\u001b[0;32m      1\u001b[0m \u001b[38;5;28;01mfrom\u001b[39;00m \u001b[38;5;21;01mimgaug\u001b[39;00m\u001b[38;5;21;01m.\u001b[39;00m\u001b[38;5;21;01maugmentables\u001b[39;00m\u001b[38;5;21;01m.\u001b[39;00m\u001b[38;5;21;01mbbs\u001b[39;00m \u001b[38;5;28;01mimport\u001b[39;00m BoundingBox, BoundingBoxesOnImage\n\u001b[0;32m      2\u001b[0m bbs \u001b[38;5;241m=\u001b[39m BoundingBoxesOnImage([\n\u001b[0;32m      3\u001b[0m  BoundingBox(x1\u001b[38;5;241m=\u001b[39m\u001b[38;5;241m40\u001b[39m, x2\u001b[38;5;241m=\u001b[39m\u001b[38;5;241m550\u001b[39m, y1\u001b[38;5;241m=\u001b[39m\u001b[38;5;241m40\u001b[39m, y2\u001b[38;5;241m=\u001b[39m\u001b[38;5;241m780\u001b[39m)\n\u001b[1;32m----> 4\u001b[0m ], shape\u001b[38;5;241m=\u001b[39m\u001b[43minput_img\u001b[49m\u001b[38;5;241m.\u001b[39mshape)\n\u001b[0;32m      5\u001b[0m ia\u001b[38;5;241m.\u001b[39mimshow(bbs\u001b[38;5;241m.\u001b[39mdraw_on_image(input_img))\n",
      "\u001b[1;31mNameError\u001b[0m: name 'input_img' is not defined"
     ]
    }
   ],
   "source": [
    "from imgaug.augmentables.bbs import BoundingBox, BoundingBoxesOnImage\n",
    "bbs = BoundingBoxesOnImage([\n",
    " BoundingBox(x1=40, x2=550, y1=40, y2=780)\n",
    "], shape=input_img.shape)\n",
    "ia.imshow(bbs.draw_on_image(input_img))"
   ]
  },
  {
   "cell_type": "code",
   "execution_count": 16,
   "id": "56f299a4",
   "metadata": {},
   "outputs": [
    {
     "name": "stdout",
     "output_type": "stream",
     "text": [
      "Collecting Albumentations\n",
      "  Downloading albumentations-1.3.0-py3-none-any.whl (123 kB)\n",
      "Requirement already satisfied: scikit-image>=0.16.1 in c:\\users\\my lapi\\anaconda3\\lib\\site-packages (from Albumentations) (0.19.2)\n",
      "Requirement already satisfied: scipy in c:\\users\\my lapi\\anaconda3\\lib\\site-packages (from Albumentations) (1.7.3)\n",
      "Collecting opencv-python-headless>=4.1.1\n",
      "  Downloading opencv_python_headless-4.7.0.68-cp37-abi3-win_amd64.whl (38.1 MB)\n",
      "Requirement already satisfied: numpy>=1.11.1 in c:\\users\\my lapi\\anaconda3\\lib\\site-packages (from Albumentations) (1.21.5)\n",
      "Requirement already satisfied: PyYAML in c:\\users\\my lapi\\anaconda3\\lib\\site-packages (from Albumentations) (6.0)\n",
      "Collecting qudida>=0.0.4\n",
      "  Downloading qudida-0.0.4-py3-none-any.whl (3.5 kB)\n",
      "Requirement already satisfied: scikit-learn>=0.19.1 in c:\\users\\my lapi\\anaconda3\\lib\\site-packages (from qudida>=0.0.4->Albumentations) (1.0.2)\n",
      "Requirement already satisfied: typing-extensions in c:\\users\\my lapi\\anaconda3\\lib\\site-packages (from qudida>=0.0.4->Albumentations) (4.1.1)\n",
      "Requirement already satisfied: pillow!=7.1.0,!=7.1.1,!=8.3.0,>=6.1.0 in c:\\users\\my lapi\\anaconda3\\lib\\site-packages (from scikit-image>=0.16.1->Albumentations) (9.0.1)\n",
      "Requirement already satisfied: PyWavelets>=1.1.1 in c:\\users\\my lapi\\anaconda3\\lib\\site-packages (from scikit-image>=0.16.1->Albumentations) (1.3.0)\n",
      "Requirement already satisfied: packaging>=20.0 in c:\\users\\my lapi\\anaconda3\\lib\\site-packages (from scikit-image>=0.16.1->Albumentations) (21.3)\n",
      "Requirement already satisfied: tifffile>=2019.7.26 in c:\\users\\my lapi\\anaconda3\\lib\\site-packages (from scikit-image>=0.16.1->Albumentations) (2021.7.2)\n",
      "Requirement already satisfied: networkx>=2.2 in c:\\users\\my lapi\\anaconda3\\lib\\site-packages (from scikit-image>=0.16.1->Albumentations) (2.7.1)\n",
      "Requirement already satisfied: imageio>=2.4.1 in c:\\users\\my lapi\\anaconda3\\lib\\site-packages (from scikit-image>=0.16.1->Albumentations) (2.9.0)\n",
      "Requirement already satisfied: pyparsing!=3.0.5,>=2.0.2 in c:\\users\\my lapi\\anaconda3\\lib\\site-packages (from packaging>=20.0->scikit-image>=0.16.1->Albumentations) (3.0.4)\n",
      "Requirement already satisfied: threadpoolctl>=2.0.0 in c:\\users\\my lapi\\anaconda3\\lib\\site-packages (from scikit-learn>=0.19.1->qudida>=0.0.4->Albumentations) (2.2.0)\n",
      "Requirement already satisfied: joblib>=0.11 in c:\\users\\my lapi\\anaconda3\\lib\\site-packages (from scikit-learn>=0.19.1->qudida>=0.0.4->Albumentations) (1.1.0)\n",
      "Installing collected packages: opencv-python-headless, qudida, Albumentations\n",
      "Note: you may need to restart the kernel to use updated packages.\n"
     ]
    },
    {
     "name": "stderr",
     "output_type": "stream",
     "text": [
      "ERROR: Could not install packages due to an OSError: [WinError 5] Access is denied: 'C:\\\\Users\\\\my lapi\\\\anaconda3\\\\Lib\\\\site-packages\\\\cv2\\\\cv2.pyd'\n",
      "Consider using the `--user` option or check the permissions.\n",
      "\n"
     ]
    }
   ],
   "source": [
    "pip install Albumentations"
   ]
  },
  {
   "cell_type": "code",
   "execution_count": 17,
   "id": "11649991",
   "metadata": {},
   "outputs": [
    {
     "ename": "ModuleNotFoundError",
     "evalue": "No module named 'albumentations'",
     "output_type": "error",
     "traceback": [
      "\u001b[1;31m---------------------------------------------------------------------------\u001b[0m",
      "\u001b[1;31mModuleNotFoundError\u001b[0m                       Traceback (most recent call last)",
      "Input \u001b[1;32mIn [17]\u001b[0m, in \u001b[0;36m<cell line: 1>\u001b[1;34m()\u001b[0m\n\u001b[1;32m----> 1\u001b[0m \u001b[38;5;28;01mimport\u001b[39;00m \u001b[38;5;21;01malbumentations\u001b[39;00m \u001b[38;5;28;01mas\u001b[39;00m \u001b[38;5;21;01mA\u001b[39;00m\n\u001b[0;32m      2\u001b[0m \u001b[38;5;28;01mimport\u001b[39;00m \u001b[38;5;21;01mcv2\u001b[39;00m\n",
      "\u001b[1;31mModuleNotFoundError\u001b[0m: No module named 'albumentations'"
     ]
    }
   ],
   "source": [
    "import albumentations as A\n",
    "import cv2"
   ]
  },
  {
   "cell_type": "code",
   "execution_count": 18,
   "id": "dc3000c6",
   "metadata": {},
   "outputs": [
    {
     "ename": "NameError",
     "evalue": "name 'A' is not defined",
     "output_type": "error",
     "traceback": [
      "\u001b[1;31m---------------------------------------------------------------------------\u001b[0m",
      "\u001b[1;31mNameError\u001b[0m                                 Traceback (most recent call last)",
      "Input \u001b[1;32mIn [18]\u001b[0m, in \u001b[0;36m<cell line: 2>\u001b[1;34m()\u001b[0m\n\u001b[0;32m      1\u001b[0m \u001b[38;5;66;03m#HorizontalFlip\u001b[39;00m\n\u001b[1;32m----> 2\u001b[0m transform \u001b[38;5;241m=\u001b[39m \u001b[43mA\u001b[49m\u001b[38;5;241m.\u001b[39mHorizontalFlip(p\u001b[38;5;241m=\u001b[39m\u001b[38;5;241m0.5\u001b[39m)\n\u001b[0;32m      3\u001b[0m augmented_image \u001b[38;5;241m=\u001b[39m transform(image\u001b[38;5;241m=\u001b[39minput_img)[\u001b[38;5;124m'\u001b[39m\u001b[38;5;124mimage\u001b[39m\u001b[38;5;124m'\u001b[39m]\n\u001b[0;32m      4\u001b[0m plt\u001b[38;5;241m.\u001b[39mfigure(figsize\u001b[38;5;241m=\u001b[39m(\u001b[38;5;241m4\u001b[39m, \u001b[38;5;241m4\u001b[39m))\n",
      "\u001b[1;31mNameError\u001b[0m: name 'A' is not defined"
     ]
    }
   ],
   "source": [
    "#HorizontalFlip\n",
    "transform = A.HorizontalFlip(p=0.5)\n",
    "augmented_image = transform(image=input_img)['image']\n",
    "plt.figure(figsize=(4, 4))\n",
    "plt.axis('off')\n",
    "plt.imshow(augmented_image)\n",
    "\n",
    "#VerticalFlip\n",
    "transform = A.VerticalFlip(p=1)\n",
    "augmented_image = transform(image=input_img)['image']\n",
    "plt.figure(figsize=(4, 4))\n",
    "plt.axis('off')\n",
    "plt.imshow(augmented_image)"
   ]
  },
  {
   "cell_type": "code",
   "execution_count": 19,
   "id": "fa722c80",
   "metadata": {},
   "outputs": [
    {
     "ename": "NameError",
     "evalue": "name 'A' is not defined",
     "output_type": "error",
     "traceback": [
      "\u001b[1;31m---------------------------------------------------------------------------\u001b[0m",
      "\u001b[1;31mNameError\u001b[0m                                 Traceback (most recent call last)",
      "Input \u001b[1;32mIn [19]\u001b[0m, in \u001b[0;36m<cell line: 1>\u001b[1;34m()\u001b[0m\n\u001b[1;32m----> 1\u001b[0m transform \u001b[38;5;241m=\u001b[39m \u001b[43mA\u001b[49m\u001b[38;5;241m.\u001b[39mShiftScaleRotate(p\u001b[38;5;241m=\u001b[39m\u001b[38;5;241m0.5\u001b[39m)\n\u001b[0;32m      2\u001b[0m random\u001b[38;5;241m.\u001b[39mseed(\u001b[38;5;241m7\u001b[39m) \n\u001b[0;32m      3\u001b[0m augmented_image \u001b[38;5;241m=\u001b[39m transform(image\u001b[38;5;241m=\u001b[39minput_img)[\u001b[38;5;124m'\u001b[39m\u001b[38;5;124mimage\u001b[39m\u001b[38;5;124m'\u001b[39m]\n",
      "\u001b[1;31mNameError\u001b[0m: name 'A' is not defined"
     ]
    }
   ],
   "source": [
    "transform = A.ShiftScaleRotate(p=0.5)\n",
    "random.seed(7) \n",
    "augmented_image = transform(image=input_img)['image']\n",
    "plt.figure(figsize=(4, 4))\n",
    "plt.axis('off')\n",
    "plt.imshow(augmented_image)"
   ]
  },
  {
   "cell_type": "code",
   "execution_count": 20,
   "id": "e2e72591",
   "metadata": {},
   "outputs": [
    {
     "ename": "ModuleNotFoundError",
     "evalue": "No module named 'albumentations'",
     "output_type": "error",
     "traceback": [
      "\u001b[1;31m---------------------------------------------------------------------------\u001b[0m",
      "\u001b[1;31mModuleNotFoundError\u001b[0m                       Traceback (most recent call last)",
      "Input \u001b[1;32mIn [20]\u001b[0m, in \u001b[0;36m<cell line: 1>\u001b[1;34m()\u001b[0m\n\u001b[1;32m----> 1\u001b[0m \u001b[38;5;28;01mfrom\u001b[39;00m \u001b[38;5;21;01malbumentations\u001b[39;00m\u001b[38;5;21;01m.\u001b[39;00m\u001b[38;5;21;01maugmentations\u001b[39;00m\u001b[38;5;21;01m.\u001b[39;00m\u001b[38;5;21;01mtransforms\u001b[39;00m \u001b[38;5;28;01mimport\u001b[39;00m ChannelShuffle\n\u001b[0;32m      2\u001b[0m transform \u001b[38;5;241m=\u001b[39m ChannelShuffle(p\u001b[38;5;241m=\u001b[39m\u001b[38;5;241m1.0\u001b[39m)\n\u001b[0;32m      3\u001b[0m random\u001b[38;5;241m.\u001b[39mseed(\u001b[38;5;241m7\u001b[39m) \n",
      "\u001b[1;31mModuleNotFoundError\u001b[0m: No module named 'albumentations'"
     ]
    }
   ],
   "source": [
    "from albumentations.augmentations.transforms import ChannelShuffle\n",
    "transform = ChannelShuffle(p=1.0)\n",
    "random.seed(7) \n",
    "augmented_image = transform(image=input_img)['image']\n",
    "plt.figure(figsize=(4, 4))\n",
    "plt.axis('off')\n",
    "plt.imshow(augmented_image)\n"
   ]
  },
  {
   "cell_type": "code",
   "execution_count": 21,
   "id": "626ed700",
   "metadata": {},
   "outputs": [
    {
     "ename": "ModuleNotFoundError",
     "evalue": "No module named 'albumentations'",
     "output_type": "error",
     "traceback": [
      "\u001b[1;31m---------------------------------------------------------------------------\u001b[0m",
      "\u001b[1;31mModuleNotFoundError\u001b[0m                       Traceback (most recent call last)",
      "Input \u001b[1;32mIn [21]\u001b[0m, in \u001b[0;36m<cell line: 1>\u001b[1;34m()\u001b[0m\n\u001b[1;32m----> 1\u001b[0m \u001b[38;5;28;01mfrom\u001b[39;00m \u001b[38;5;21;01malbumentations\u001b[39;00m\u001b[38;5;21;01m.\u001b[39;00m\u001b[38;5;21;01maugmentations\u001b[39;00m\u001b[38;5;21;01m.\u001b[39;00m\u001b[38;5;21;01mtransforms\u001b[39;00m \u001b[38;5;28;01mimport\u001b[39;00m Solarize\n\u001b[0;32m      2\u001b[0m transform \u001b[38;5;241m=\u001b[39m Solarize(threshold\u001b[38;5;241m=\u001b[39m\u001b[38;5;241m200\u001b[39m,  p\u001b[38;5;241m=\u001b[39m\u001b[38;5;241m1.0\u001b[39m)\n\u001b[0;32m      3\u001b[0m augmented_image \u001b[38;5;241m=\u001b[39m transform(image\u001b[38;5;241m=\u001b[39minput_img)[\u001b[38;5;124m'\u001b[39m\u001b[38;5;124mimage\u001b[39m\u001b[38;5;124m'\u001b[39m]\n",
      "\u001b[1;31mModuleNotFoundError\u001b[0m: No module named 'albumentations'"
     ]
    }
   ],
   "source": [
    "from albumentations.augmentations.transforms import Solarize\n",
    "transform = Solarize(threshold=200,  p=1.0)\n",
    "augmented_image = transform(image=input_img)['image']\n",
    "plt.figure(figsize=(4, 4))\n",
    "plt.axis('off')\n",
    "plt.imshow(augmented_image)\n"
   ]
  },
  {
   "cell_type": "code",
   "execution_count": 22,
   "id": "1bea3d27",
   "metadata": {},
   "outputs": [
    {
     "ename": "ModuleNotFoundError",
     "evalue": "No module named 'albumentations'",
     "output_type": "error",
     "traceback": [
      "\u001b[1;31m---------------------------------------------------------------------------\u001b[0m",
      "\u001b[1;31mModuleNotFoundError\u001b[0m                       Traceback (most recent call last)",
      "Input \u001b[1;32mIn [22]\u001b[0m, in \u001b[0;36m<cell line: 1>\u001b[1;34m()\u001b[0m\n\u001b[1;32m----> 1\u001b[0m \u001b[38;5;28;01mfrom\u001b[39;00m \u001b[38;5;21;01malbumentations\u001b[39;00m\u001b[38;5;21;01m.\u001b[39;00m\u001b[38;5;21;01maugmentations\u001b[39;00m\u001b[38;5;21;01m.\u001b[39;00m\u001b[38;5;21;01mtransforms\u001b[39;00m \u001b[38;5;28;01mimport\u001b[39;00m InvertImg\n\u001b[0;32m      2\u001b[0m transform \u001b[38;5;241m=\u001b[39m InvertImg(p\u001b[38;5;241m=\u001b[39m\u001b[38;5;241m1.0\u001b[39m)\n\u001b[0;32m      3\u001b[0m augmented_image \u001b[38;5;241m=\u001b[39m transform(image\u001b[38;5;241m=\u001b[39minput_img)[\u001b[38;5;124m'\u001b[39m\u001b[38;5;124mimage\u001b[39m\u001b[38;5;124m'\u001b[39m]\n",
      "\u001b[1;31mModuleNotFoundError\u001b[0m: No module named 'albumentations'"
     ]
    }
   ],
   "source": [
    "from albumentations.augmentations.transforms import InvertImg\n",
    "transform = InvertImg(p=1.0)\n",
    "augmented_image = transform(image=input_img)['image']\n",
    "plt.figure(figsize=(4, 4))\n",
    "plt.axis('off')\n",
    "plt.imshow(augmented_image)"
   ]
  },
  {
   "cell_type": "code",
   "execution_count": 23,
   "id": "5f3bc7f2",
   "metadata": {},
   "outputs": [
    {
     "ename": "NameError",
     "evalue": "name 'A' is not defined",
     "output_type": "error",
     "traceback": [
      "\u001b[1;31m---------------------------------------------------------------------------\u001b[0m",
      "\u001b[1;31mNameError\u001b[0m                                 Traceback (most recent call last)",
      "Input \u001b[1;32mIn [23]\u001b[0m, in \u001b[0;36m<cell line: 1>\u001b[1;34m()\u001b[0m\n\u001b[1;32m----> 1\u001b[0m transform \u001b[38;5;241m=\u001b[39m \u001b[43mA\u001b[49m\u001b[38;5;241m.\u001b[39mCompose([\n\u001b[0;32m      2\u001b[0m     A\u001b[38;5;241m.\u001b[39mRandomRotate90(),\n\u001b[0;32m      3\u001b[0m     A\u001b[38;5;241m.\u001b[39mTranspose(),\n\u001b[0;32m      4\u001b[0m     A\u001b[38;5;241m.\u001b[39mShiftScaleRotate(shift_limit\u001b[38;5;241m=\u001b[39m\u001b[38;5;241m0.08\u001b[39m, scale_limit\u001b[38;5;241m=\u001b[39m\u001b[38;5;241m0.5\u001b[39m, rotate_limit\u001b[38;5;241m=\u001b[39m\u001b[38;5;241m5\u001b[39m, p\u001b[38;5;241m=\u001b[39m\u001b[38;5;241m.8\u001b[39m),\n\u001b[0;32m      5\u001b[0m     A\u001b[38;5;241m.\u001b[39mBlur(blur_limit\u001b[38;5;241m=\u001b[39m\u001b[38;5;241m7\u001b[39m),\n\u001b[0;32m      6\u001b[0m     A\u001b[38;5;241m.\u001b[39mGridDistortion(),\n\u001b[0;32m      7\u001b[0m ])\n\u001b[0;32m      8\u001b[0m random\u001b[38;5;241m.\u001b[39mseed(\u001b[38;5;241m2\u001b[39m) \n\u001b[0;32m      9\u001b[0m augmented_image \u001b[38;5;241m=\u001b[39m transform(image\u001b[38;5;241m=\u001b[39minput_img)[\u001b[38;5;124m'\u001b[39m\u001b[38;5;124mimage\u001b[39m\u001b[38;5;124m'\u001b[39m]\n",
      "\u001b[1;31mNameError\u001b[0m: name 'A' is not defined"
     ]
    }
   ],
   "source": [
    "transform = A.Compose([\n",
    "    A.RandomRotate90(),\n",
    "    A.Transpose(),\n",
    "    A.ShiftScaleRotate(shift_limit=0.08, scale_limit=0.5, rotate_limit=5, p=.8),\n",
    "    A.Blur(blur_limit=7),\n",
    "    A.GridDistortion(),\n",
    "])\n",
    "random.seed(2) \n",
    "augmented_image = transform(image=input_img)['image']\n",
    "plt.figure(figsize=(4, 4))\n",
    "plt.axis('off')\n",
    "plt.imshow(augmented_image)"
   ]
  },
  {
   "cell_type": "code",
   "execution_count": 24,
   "id": "41359ed0",
   "metadata": {},
   "outputs": [
    {
     "name": "stdout",
     "output_type": "stream",
     "text": [
      "Collecting solt\n",
      "  Downloading solt-0.1.9.tar.gz (24 kB)\n",
      "Requirement already satisfied: numpy in c:\\users\\my lapi\\anaconda3\\lib\\site-packages (from solt) (1.21.5)\n",
      "Requirement already satisfied: scipy in c:\\users\\my lapi\\anaconda3\\lib\\site-packages (from solt) (1.7.3)\n",
      "Collecting opencv-python-headless\n",
      "  Using cached opencv_python_headless-4.7.0.68-cp37-abi3-win_amd64.whl (38.1 MB)\n",
      "Collecting torch\n",
      "  Downloading torch-1.13.1-cp39-cp39-win_amd64.whl (162.5 MB)\n",
      "Collecting torchvision\n",
      "  Downloading torchvision-0.14.1-cp39-cp39-win_amd64.whl (1.1 MB)\n",
      "Requirement already satisfied: pyyaml in c:\\users\\my lapi\\anaconda3\\lib\\site-packages (from solt) (6.0)\n",
      "Requirement already satisfied: typing-extensions in c:\\users\\my lapi\\anaconda3\\lib\\site-packages (from torch->solt) (4.1.1)\n",
      "Requirement already satisfied: pillow!=8.3.*,>=5.3.0 in c:\\users\\my lapi\\anaconda3\\lib\\site-packages (from torchvision->solt) (9.0.1)\n",
      "Requirement already satisfied: requests in c:\\users\\my lapi\\anaconda3\\lib\\site-packages (from torchvision->solt) (2.27.1)\n",
      "Requirement already satisfied: charset-normalizer~=2.0.0 in c:\\users\\my lapi\\anaconda3\\lib\\site-packages (from requests->torchvision->solt) (2.0.4)\n",
      "Requirement already satisfied: urllib3<1.27,>=1.21.1 in c:\\users\\my lapi\\anaconda3\\lib\\site-packages (from requests->torchvision->solt) (1.26.9)\n",
      "Requirement already satisfied: certifi>=2017.4.17 in c:\\users\\my lapi\\anaconda3\\lib\\site-packages (from requests->torchvision->solt) (2021.10.8)\n",
      "Requirement already satisfied: idna<4,>=2.5 in c:\\users\\my lapi\\anaconda3\\lib\\site-packages (from requests->torchvision->solt) (3.3)\n",
      "Building wheels for collected packages: solt\n",
      "  Building wheel for solt (setup.py): started\n",
      "  Building wheel for solt (setup.py): finished with status 'done'\n",
      "  Created wheel for solt: filename=solt-0.1.9-py3-none-any.whl size=26385 sha256=8059bd1f154298488a34b0e1ab81f77788a869fdd7619cb15c3a0049cb644d4f\n",
      "  Stored in directory: c:\\users\\my lapi\\appdata\\local\\pip\\cache\\wheels\\d6\\cd\\46\\275882303119d761dde43eaa193327d27eaa95019d22d20ca7\n",
      "Successfully built solt\n",
      "Installing collected packages: torch, torchvision, opencv-python-headless, solt\n",
      "Note: you may need to restart the kernel to use updated packages.\n"
     ]
    },
    {
     "name": "stderr",
     "output_type": "stream",
     "text": [
      "ERROR: Could not install packages due to an OSError: [WinError 5] Access is denied: 'C:\\\\Users\\\\my lapi\\\\anaconda3\\\\Lib\\\\site-packages\\\\cv2\\\\cv2.pyd'\n",
      "Consider using the `--user` option or check the permissions.\n",
      "\n"
     ]
    }
   ],
   "source": [
    "pip install solt"
   ]
  },
  {
   "cell_type": "code",
   "execution_count": 25,
   "id": "d9c0cd2a",
   "metadata": {},
   "outputs": [
    {
     "ename": "ModuleNotFoundError",
     "evalue": "No module named 'solt'",
     "output_type": "error",
     "traceback": [
      "\u001b[1;31m---------------------------------------------------------------------------\u001b[0m",
      "\u001b[1;31mModuleNotFoundError\u001b[0m                       Traceback (most recent call last)",
      "Input \u001b[1;32mIn [25]\u001b[0m, in \u001b[0;36m<cell line: 1>\u001b[1;34m()\u001b[0m\n\u001b[1;32m----> 1\u001b[0m \u001b[38;5;28;01mimport\u001b[39;00m \u001b[38;5;21;01msolt\u001b[39;00m\n\u001b[0;32m      2\u001b[0m \u001b[38;5;28;01mimport\u001b[39;00m \u001b[38;5;21;01msolt\u001b[39;00m\u001b[38;5;21;01m.\u001b[39;00m\u001b[38;5;21;01mtransforms\u001b[39;00m \u001b[38;5;28;01mas\u001b[39;00m \u001b[38;5;21;01mslt\u001b[39;00m\n\u001b[0;32m      3\u001b[0m h, w, c \u001b[38;5;241m=\u001b[39m input_img\u001b[38;5;241m.\u001b[39mshape\n",
      "\u001b[1;31mModuleNotFoundError\u001b[0m: No module named 'solt'"
     ]
    }
   ],
   "source": [
    "import solt\n",
    "import solt.transforms as slt\n",
    "h, w, c = input_img.shape\n",
    "img = input_img[:w]"
   ]
  },
  {
   "cell_type": "code",
   "execution_count": 26,
   "id": "658ac9b7",
   "metadata": {},
   "outputs": [
    {
     "ename": "NameError",
     "evalue": "name 'solt' is not defined",
     "output_type": "error",
     "traceback": [
      "\u001b[1;31m---------------------------------------------------------------------------\u001b[0m",
      "\u001b[1;31mNameError\u001b[0m                                 Traceback (most recent call last)",
      "Input \u001b[1;32mIn [26]\u001b[0m, in \u001b[0;36m<cell line: 1>\u001b[1;34m()\u001b[0m\n\u001b[1;32m----> 1\u001b[0m stream \u001b[38;5;241m=\u001b[39m \u001b[43msolt\u001b[49m\u001b[38;5;241m.\u001b[39mStream([\n\u001b[0;32m      2\u001b[0m     slt\u001b[38;5;241m.\u001b[39mRotate(angle_range\u001b[38;5;241m=\u001b[39m(\u001b[38;5;241m-\u001b[39m\u001b[38;5;241m90\u001b[39m, \u001b[38;5;241m90\u001b[39m), p\u001b[38;5;241m=\u001b[39m\u001b[38;5;241m1\u001b[39m, padding\u001b[38;5;241m=\u001b[39m\u001b[38;5;124m'\u001b[39m\u001b[38;5;124mr\u001b[39m\u001b[38;5;124m'\u001b[39m),\n\u001b[0;32m      3\u001b[0m     slt\u001b[38;5;241m.\u001b[39mFlip(axis\u001b[38;5;241m=\u001b[39m\u001b[38;5;241m1\u001b[39m, p\u001b[38;5;241m=\u001b[39m\u001b[38;5;241m0.5\u001b[39m),\n\u001b[0;32m      4\u001b[0m     slt\u001b[38;5;241m.\u001b[39mFlip(axis\u001b[38;5;241m=\u001b[39m\u001b[38;5;241m0\u001b[39m, p\u001b[38;5;241m=\u001b[39m\u001b[38;5;241m0.5\u001b[39m),\n\u001b[0;32m      5\u001b[0m     slt\u001b[38;5;241m.\u001b[39mShear(range_x\u001b[38;5;241m=\u001b[39m\u001b[38;5;241m0.3\u001b[39m, range_y\u001b[38;5;241m=\u001b[39m\u001b[38;5;241m0.8\u001b[39m, p\u001b[38;5;241m=\u001b[39m\u001b[38;5;241m0.5\u001b[39m, padding\u001b[38;5;241m=\u001b[39m\u001b[38;5;124m'\u001b[39m\u001b[38;5;124mr\u001b[39m\u001b[38;5;124m'\u001b[39m),\n\u001b[0;32m      6\u001b[0m     slt\u001b[38;5;241m.\u001b[39mScale(range_x\u001b[38;5;241m=\u001b[39m(\u001b[38;5;241m0.8\u001b[39m, \u001b[38;5;241m1.3\u001b[39m), padding\u001b[38;5;241m=\u001b[39m\u001b[38;5;124m'\u001b[39m\u001b[38;5;124mr\u001b[39m\u001b[38;5;124m'\u001b[39m, range_y\u001b[38;5;241m=\u001b[39m(\u001b[38;5;241m0.8\u001b[39m, \u001b[38;5;241m1.3\u001b[39m), same\u001b[38;5;241m=\u001b[39m\u001b[38;5;28;01mFalse\u001b[39;00m, p\u001b[38;5;241m=\u001b[39m\u001b[38;5;241m0.5\u001b[39m),\n\u001b[0;32m      7\u001b[0m     slt\u001b[38;5;241m.\u001b[39mPad((w, h), \u001b[38;5;124m'\u001b[39m\u001b[38;5;124mr\u001b[39m\u001b[38;5;124m'\u001b[39m),\n\u001b[0;32m      8\u001b[0m     slt\u001b[38;5;241m.\u001b[39mCrop((w, w), \u001b[38;5;124m'\u001b[39m\u001b[38;5;124mr\u001b[39m\u001b[38;5;124m'\u001b[39m),\n\u001b[0;32m      9\u001b[0m     slt\u001b[38;5;241m.\u001b[39mBlur(k_size\u001b[38;5;241m=\u001b[39m\u001b[38;5;241m7\u001b[39m, blur_type\u001b[38;5;241m=\u001b[39m\u001b[38;5;124m'\u001b[39m\u001b[38;5;124mm\u001b[39m\u001b[38;5;124m'\u001b[39m),\n\u001b[0;32m     10\u001b[0m     solt\u001b[38;5;241m.\u001b[39mSelectiveStream([\n\u001b[0;32m     11\u001b[0m         slt\u001b[38;5;241m.\u001b[39mCutOut(\u001b[38;5;241m40\u001b[39m, p\u001b[38;5;241m=\u001b[39m\u001b[38;5;241m1\u001b[39m),\n\u001b[0;32m     12\u001b[0m         slt\u001b[38;5;241m.\u001b[39mCutOut(\u001b[38;5;241m50\u001b[39m, p\u001b[38;5;241m=\u001b[39m\u001b[38;5;241m1\u001b[39m),\n\u001b[0;32m     13\u001b[0m         slt\u001b[38;5;241m.\u001b[39mCutOut(\u001b[38;5;241m10\u001b[39m, p\u001b[38;5;241m=\u001b[39m\u001b[38;5;241m1\u001b[39m),\n\u001b[0;32m     14\u001b[0m         solt\u001b[38;5;241m.\u001b[39mStream(),\n\u001b[0;32m     15\u001b[0m         solt\u001b[38;5;241m.\u001b[39mStream(),\n\u001b[0;32m     16\u001b[0m     ], n\u001b[38;5;241m=\u001b[39m\u001b[38;5;241m3\u001b[39m),\n\u001b[0;32m     17\u001b[0m     ], ignore_fast_mode\u001b[38;5;241m=\u001b[39m\u001b[38;5;28;01mTrue\u001b[39;00m)\n\u001b[0;32m     18\u001b[0m fig \u001b[38;5;241m=\u001b[39m plt\u001b[38;5;241m.\u001b[39mfigure(figsize\u001b[38;5;241m=\u001b[39m(\u001b[38;5;241m17\u001b[39m,\u001b[38;5;241m17\u001b[39m))\n\u001b[0;32m     19\u001b[0m n_augs \u001b[38;5;241m=\u001b[39m \u001b[38;5;241m10\u001b[39m\n",
      "\u001b[1;31mNameError\u001b[0m: name 'solt' is not defined"
     ]
    }
   ],
   "source": [
    "stream = solt.Stream([\n",
    "    slt.Rotate(angle_range=(-90, 90), p=1, padding='r'),\n",
    "    slt.Flip(axis=1, p=0.5),\n",
    "    slt.Flip(axis=0, p=0.5),\n",
    "    slt.Shear(range_x=0.3, range_y=0.8, p=0.5, padding='r'),\n",
    "    slt.Scale(range_x=(0.8, 1.3), padding='r', range_y=(0.8, 1.3), same=False, p=0.5),\n",
    "    slt.Pad((w, h), 'r'),\n",
    "    slt.Crop((w, w), 'r'),\n",
    "    slt.Blur(k_size=7, blur_type='m'),\n",
    "    solt.SelectiveStream([\n",
    "        slt.CutOut(40, p=1),\n",
    "        slt.CutOut(50, p=1),\n",
    "        slt.CutOut(10, p=1),\n",
    "        solt.Stream(),\n",
    "        solt.Stream(),\n",
    "    ], n=3),\n",
    "    ], ignore_fast_mode=True)\n",
    "fig = plt.figure(figsize=(17,17))\n",
    "n_augs = 10\n",
    "random.seed(2)\n",
    "for i in range(n_augs):\n",
    "    img_aug = stream({'image': img}, return_torch=False, ).data[0].squeeze()\n",
    "    ax = fig.add_subplot(1,n_augs,i+1)\n",
    "    if i == 0:\n",
    "        ax.imshow(img)\n",
    "    else:\n",
    "        ax.imshow(img_aug)\n",
    "    ax.set_xticks([])\n",
    "    ax.set_yticks([])\n",
    "plt.show()"
   ]
  },
  {
   "cell_type": "code",
   "execution_count": null,
   "id": "816f8b31",
   "metadata": {},
   "outputs": [],
   "source": []
  }
 ],
 "metadata": {
  "kernelspec": {
   "display_name": "Python 3 (ipykernel)",
   "language": "python",
   "name": "python3"
  },
  "language_info": {
   "codemirror_mode": {
    "name": "ipython",
    "version": 3
   },
   "file_extension": ".py",
   "mimetype": "text/x-python",
   "name": "python",
   "nbconvert_exporter": "python",
   "pygments_lexer": "ipython3",
   "version": "3.9.12"
  }
 },
 "nbformat": 4,
 "nbformat_minor": 5
}
